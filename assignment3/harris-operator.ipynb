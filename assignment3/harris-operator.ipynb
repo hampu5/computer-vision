{
 "cells": [
  {
   "cell_type": "markdown",
   "metadata": {},
   "source": [
    "This is a tutorial on how to create a Harris detector in Python!\n",
    "\n",
    "We start by importing OpenCV and numpy."
   ]
  },
  {
   "cell_type": "code",
   "execution_count": 17,
   "metadata": {},
   "outputs": [],
   "source": [
    "import cv2 as cv\n",
    "import numpy as np"
   ]
  },
  {
   "cell_type": "markdown",
   "metadata": {},
   "source": [
    "We start of by creating the function we will call in order to get our covariance matrix. The covariance matrix is the same size as the original image and contains values that will later be used to compute determinants and traces in windows around pixels, in order to get a score on whether the current pixel has \"features\" (corners).\n",
    "\n",
    "The function takes an image and the k value used to scale the square of the trace, as seen further below. Two variables are defined: window size (size of the window around the pixel that is used to check for features), sobel aperture size (the size of the Sobel filter kernel). These are hardcoded in this case."
   ]
  },
  {
   "cell_type": "code",
   "execution_count": 18,
   "metadata": {},
   "outputs": [],
   "source": [
    "def corner_harris(img, k):\n",
    "    window_size = 3\n",
    "    sobel_aperture_size = 3\n",
    "    rows, cols = img.shape\n",
    "\n",
    "    scale = np.float32((1 << (sobel_aperture_size - 1)) * window_size)\n",
    "    scale *= 255.0\n",
    "    scale = 1.0 / scale\n",
    "\n",
    "    img_gradient_x = cv.Sobel(img, cv.CV_32F, 1, 0, ksize=sobel_aperture_size, scale=scale)\n",
    "    img_gradient_y = cv.Sobel(img, cv.CV_32F, 0, 1, ksize=sobel_aperture_size, scale=scale)\n",
    "\n",
    "    covariance_matrix = np.zeros((rows, cols, 3), np.float32)\n",
    "\n",
    "    for x in range(rows):\n",
    "        for y in range(cols):\n",
    "            dx = float(img_gradient_x[x, y])\n",
    "            dy = float(img_gradient_y[x, y])\n",
    "            \n",
    "            covariance_matrix[x, y, 0] = dx*dx\n",
    "            covariance_matrix[x, y, 1] = dx*dy\n",
    "            covariance_matrix[x, y, 2] = dy*dy\n",
    "\n",
    "    covariance_matrix = cv.boxFilter(covariance_matrix, cv.CV_32F, (window_size, window_size))\n",
    "    \n",
    "    return calc_harris(covariance_matrix, k)"
   ]
  },
  {
   "cell_type": "markdown",
   "metadata": {},
   "source": [
    "The scale is used in the Sobel filters in order to get nice values in the img_gradients. The Sobel filter is used for edge detection. Gradients of the image is taken in x and y directions in two separate matrices (img_gradient_x and img_gradient_y).\n",
    "\n",
    "A covariance matrix is made. It is also called structure tensor.\n",
    "\n",
    "A box-filter is applied to the covariance matrix. If this step is not done, the determinant operation done with the values in the covariance matrix will always be 0! This adds weights to all values in the covariance matrix. This is done with a convolution kernel. In this case the kernel will have the same size as the window we detect features (corners) with.\n",
    "In the return statement we call another function that returns a finished matrix with the scores of whether or not the current pixel (and window) has a feature (corner).\n",
    "\n",
    "This is that function:"
   ]
  },
  {
   "cell_type": "code",
   "execution_count": 19,
   "metadata": {},
   "outputs": [],
   "source": [
    "def calc_harris(covariance_matrix, k):\n",
    "    rows, cols, channels = covariance_matrix.shape\n",
    "\n",
    "    out_matrix = np.zeros((rows, cols), np.float32)\n",
    "\n",
    "    for x in range(rows):\n",
    "        for y in range(cols):\n",
    "            a = covariance_matrix[x, y, 0]\n",
    "            b = covariance_matrix[x, y, 1]\n",
    "            c = covariance_matrix[x, y, 2]\n",
    "\n",
    "            h_det = a*c - b*b\n",
    "            h_trace = a + c\n",
    "            r = h_det - k * h_trace * h_trace\n",
    "            \n",
    "            out_matrix[x, y] = r\n",
    "    \n",
    "    return out_matrix"
   ]
  },
  {
   "cell_type": "markdown",
   "metadata": {},
   "source": [
    "If we call the function, this is the result:"
   ]
  },
  {
   "cell_type": "code",
   "execution_count": 20,
   "metadata": {},
   "outputs": [],
   "source": [
    "img_raw = cv.imread('pic2_small.jpg')\n",
    "img_raw = cv.cvtColor(img_raw, cv.COLOR_BGR2GRAY)\n",
    "\n",
    "rows, cols = img_raw.shape\n",
    "\n",
    "cv.imshow('Original', img_raw)\n",
    "\n",
    "img_r = corner_harris(img_raw, 0.06)\n",
    "img_r = img_r * 81 # No idea why...\n",
    "\n",
    "max_r = np.amax(img_r)\n",
    "min_r = np.amin(img_r)\n",
    "\n",
    "img_markers = np.array(img_raw)\n",
    "for i in range(rows):\n",
    "    for j in range(cols):\n",
    "        if img_r[i, j] > 0.0005:\n",
    "            cv.circle(img_markers, center=(j, i), radius=9, color=(255, 0, 0), thickness=1)\n",
    "\n",
    "cv.imshow('Detected features', img_markers)"
   ]
  }
 ],
 "metadata": {
  "interpreter": {
   "hash": "767d51c1340bd893661ea55ea3124f6de3c7a262a8b4abca0554b478b1e2ff90"
  },
  "kernelspec": {
   "display_name": "Python 3.8.10 64-bit",
   "language": "python",
   "name": "python3"
  },
  "language_info": {
   "codemirror_mode": {
    "name": "ipython",
    "version": 3
   },
   "file_extension": ".py",
   "mimetype": "text/x-python",
   "name": "python",
   "nbconvert_exporter": "python",
   "pygments_lexer": "ipython3",
   "version": "3.8.10"
  },
  "orig_nbformat": 4
 },
 "nbformat": 4,
 "nbformat_minor": 2
}
